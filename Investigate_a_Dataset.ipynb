{
 "cells": [
  {
   "cell_type": "markdown",
   "metadata": {},
   "source": [
    "# Project: Investigate a Dataset - [TMDB-movies]\n",
    "\n",
    "## Table of Contents\n",
    "<ul>\n",
    "<li><a href=\"#intro\">Introduction</a></li>\n",
    "<li><a href=\"#wrangling\">Data Wrangling</a></li>\n",
    "<li><a href=\"#eda\">Exploratory Data Analysis</a></li>\n",
    "<li><a href=\"#conclusions\">Conclusions</a></li>\n",
    "</ul>"
   ]
  },
  {
   "cell_type": "markdown",
   "metadata": {},
   "source": [
    "<a id='intro'></a>\n",
    "## Introduction\n",
    "\n",
    "### Dataset Description \n",
    "\n",
    "This data set contains information about 10,000 movies collected from The Movie Database (TMDb), including (id, imdb_id, popularity, budget. revenue. original_title, cast, homepage, director, tagline, keywords, overview, runtime, genres, production_companies, release_date, vote_count, vote_average, release_year, budget_adj, revenue_adj).\n",
    "\n",
    "As for (id), it is a unique code assigned by TMDB to each movie, and imdb_id is the counterpart from IMDB.\n",
    "\n",
    "Popularity is measured for movies based on:\n",
    "\n",
    "    Number of votes for the day\n",
    "    Number of views for the day\n",
    "    Number of users who marked it as a \"favourite\" for the day\n",
    "    Number of users who added it to their \"watchlist\" for the day\n",
    "    Release date\n",
    "    Number of total votes\n",
    "    Previous days score\n",
    "    \n",
    "Budget and revenue are self explanatory and they are the actual figures spent/collected when the movie was being produced/released. meanwhile, budget_adj and revenue_adj show the budget and revenue of the associated movie in terms of 2010 dollars, accounting for inflation over time.\n",
    "\n",
    "Tagline is a short description or comment on a movie that is displayed on movie posters (or direct to video covers, etc.) to capture the essence of the movie, and ultimately make you watch the movie.\n",
    "\n",
    "Keywords are used to refine search results and are derived from the frequent keywords used by users to search for a movie.\n",
    "\n",
    "Some of the columns are insignificant and will be dropped at the cleaning stage.\n",
    "\n",
    "### Question(s) for Analysis\n",
    "1. What is the mean runtime?\n",
    "2. How has runtime developed over the years?\n",
    "3. How is popularity correlated with runtime"
   ]
  },
  {
   "cell_type": "code",
   "execution_count": 1,
   "metadata": {},
   "outputs": [],
   "source": [
    "import numpy as np\n",
    "import pandas as pd\n",
    "import matplotlib.pyplot as plt\n",
    "import seaborn as sns\n",
    "% matplotlib inline"
   ]
  },
  {
   "cell_type": "code",
   "execution_count": 2,
   "metadata": {},
   "outputs": [
    {
     "name": "stdout",
     "output_type": "stream",
     "text": [
      "Requirement already up-to-date: pandas==0.25.0 in /opt/conda/lib/python3.6/site-packages (0.25.0)\n",
      "Requirement already satisfied, skipping upgrade: numpy>=1.13.3 in /opt/conda/lib/python3.6/site-packages (from pandas==0.25.0) (1.19.5)\n",
      "Requirement already satisfied, skipping upgrade: pytz>=2017.2 in /opt/conda/lib/python3.6/site-packages (from pandas==0.25.0) (2017.3)\n",
      "Requirement already satisfied, skipping upgrade: python-dateutil>=2.6.1 in /opt/conda/lib/python3.6/site-packages (from pandas==0.25.0) (2.6.1)\n",
      "Requirement already satisfied, skipping upgrade: six>=1.5 in /opt/conda/lib/python3.6/site-packages (from python-dateutil>=2.6.1->pandas==0.25.0) (1.11.0)\n"
     ]
    }
   ],
   "source": [
    "# Upgrade pandas to use dataframe.explode() function. \n",
    "!pip install --upgrade pandas==0.25.0"
   ]
  },
  {
   "cell_type": "markdown",
   "metadata": {},
   "source": [
    "<a id='wrangling'></a>\n",
    "## Data Wrangling\n",
    "\n",
    "### General Properties\n"
   ]
  },
  {
   "cell_type": "code",
   "execution_count": 3,
   "metadata": {},
   "outputs": [
    {
     "name": "stdout",
     "output_type": "stream",
     "text": [
      "<class 'pandas.core.frame.DataFrame'>\n",
      "RangeIndex: 10866 entries, 0 to 10865\n",
      "Data columns (total 21 columns):\n",
      "id                      10866 non-null int64\n",
      "imdb_id                 10856 non-null object\n",
      "popularity              10866 non-null float64\n",
      "budget                  10866 non-null int64\n",
      "revenue                 10866 non-null int64\n",
      "original_title          10866 non-null object\n",
      "cast                    10790 non-null object\n",
      "homepage                2936 non-null object\n",
      "director                10822 non-null object\n",
      "tagline                 8042 non-null object\n",
      "keywords                9373 non-null object\n",
      "overview                10862 non-null object\n",
      "runtime                 10866 non-null int64\n",
      "genres                  10843 non-null object\n",
      "production_companies    9836 non-null object\n",
      "release_date            10866 non-null object\n",
      "vote_count              10866 non-null int64\n",
      "vote_average            10866 non-null float64\n",
      "release_year            10866 non-null int64\n",
      "budget_adj              10866 non-null float64\n",
      "revenue_adj             10866 non-null float64\n",
      "dtypes: float64(4), int64(6), object(11)\n",
      "memory usage: 1.7+ MB\n"
     ]
    }
   ],
   "source": [
    "# Loading our database and printing out a few lines. inspecting data\n",
    "#   types and looking for instances of missing or possibly errant data.\n",
    "tmdb_df = pd.read_csv('tmdb-movies.csv')\n",
    "tmdb_df.info()"
   ]
  },
  {
   "cell_type": "markdown",
   "metadata": {},
   "source": [
    "> Clearly there is some columns containing null values. most of these columns are insignificant to the analysis, like homepage and overview, we will drop these columns later."
   ]
  },
  {
   "cell_type": "code",
   "execution_count": 4,
   "metadata": {},
   "outputs": [
    {
     "data": {
      "text/plain": [
       "(10866, 21)"
      ]
     },
     "execution_count": 4,
     "metadata": {},
     "output_type": "execute_result"
    }
   ],
   "source": [
    "# We need to determine the number of rows and columns\n",
    "tmdb_df.shape"
   ]
  },
  {
   "cell_type": "code",
   "execution_count": 5,
   "metadata": {},
   "outputs": [
    {
     "data": {
      "text/html": [
       "<div>\n",
       "<style scoped>\n",
       "    .dataframe tbody tr th:only-of-type {\n",
       "        vertical-align: middle;\n",
       "    }\n",
       "\n",
       "    .dataframe tbody tr th {\n",
       "        vertical-align: top;\n",
       "    }\n",
       "\n",
       "    .dataframe thead th {\n",
       "        text-align: right;\n",
       "    }\n",
       "</style>\n",
       "<table border=\"1\" class=\"dataframe\">\n",
       "  <thead>\n",
       "    <tr style=\"text-align: right;\">\n",
       "      <th></th>\n",
       "      <th>id</th>\n",
       "      <th>imdb_id</th>\n",
       "      <th>popularity</th>\n",
       "      <th>budget</th>\n",
       "      <th>revenue</th>\n",
       "      <th>original_title</th>\n",
       "      <th>...</th>\n",
       "      <th>release_date</th>\n",
       "      <th>vote_count</th>\n",
       "      <th>vote_average</th>\n",
       "      <th>release_year</th>\n",
       "      <th>budget_adj</th>\n",
       "      <th>revenue_adj</th>\n",
       "    </tr>\n",
       "  </thead>\n",
       "  <tbody>\n",
       "    <tr>\n",
       "      <th>0</th>\n",
       "      <td>135397</td>\n",
       "      <td>tt0369610</td>\n",
       "      <td>32.985763</td>\n",
       "      <td>150000000</td>\n",
       "      <td>1513528810</td>\n",
       "      <td>Jurassic World</td>\n",
       "      <td>...</td>\n",
       "      <td>6/9/15</td>\n",
       "      <td>5562</td>\n",
       "      <td>6.5</td>\n",
       "      <td>2015</td>\n",
       "      <td>1.379999e+08</td>\n",
       "      <td>1.392446e+09</td>\n",
       "    </tr>\n",
       "    <tr>\n",
       "      <th>1</th>\n",
       "      <td>76341</td>\n",
       "      <td>tt1392190</td>\n",
       "      <td>28.419936</td>\n",
       "      <td>150000000</td>\n",
       "      <td>378436354</td>\n",
       "      <td>Mad Max: Fury Road</td>\n",
       "      <td>...</td>\n",
       "      <td>5/13/15</td>\n",
       "      <td>6185</td>\n",
       "      <td>7.1</td>\n",
       "      <td>2015</td>\n",
       "      <td>1.379999e+08</td>\n",
       "      <td>3.481613e+08</td>\n",
       "    </tr>\n",
       "    <tr>\n",
       "      <th>2</th>\n",
       "      <td>262500</td>\n",
       "      <td>tt2908446</td>\n",
       "      <td>13.112507</td>\n",
       "      <td>110000000</td>\n",
       "      <td>295238201</td>\n",
       "      <td>Insurgent</td>\n",
       "      <td>...</td>\n",
       "      <td>3/18/15</td>\n",
       "      <td>2480</td>\n",
       "      <td>6.3</td>\n",
       "      <td>2015</td>\n",
       "      <td>1.012000e+08</td>\n",
       "      <td>2.716190e+08</td>\n",
       "    </tr>\n",
       "    <tr>\n",
       "      <th>3</th>\n",
       "      <td>140607</td>\n",
       "      <td>tt2488496</td>\n",
       "      <td>11.173104</td>\n",
       "      <td>200000000</td>\n",
       "      <td>2068178225</td>\n",
       "      <td>Star Wars: The Force Awakens</td>\n",
       "      <td>...</td>\n",
       "      <td>12/15/15</td>\n",
       "      <td>5292</td>\n",
       "      <td>7.5</td>\n",
       "      <td>2015</td>\n",
       "      <td>1.839999e+08</td>\n",
       "      <td>1.902723e+09</td>\n",
       "    </tr>\n",
       "    <tr>\n",
       "      <th>4</th>\n",
       "      <td>168259</td>\n",
       "      <td>tt2820852</td>\n",
       "      <td>9.335014</td>\n",
       "      <td>190000000</td>\n",
       "      <td>1506249360</td>\n",
       "      <td>Furious 7</td>\n",
       "      <td>...</td>\n",
       "      <td>4/1/15</td>\n",
       "      <td>2947</td>\n",
       "      <td>7.3</td>\n",
       "      <td>2015</td>\n",
       "      <td>1.747999e+08</td>\n",
       "      <td>1.385749e+09</td>\n",
       "    </tr>\n",
       "  </tbody>\n",
       "</table>\n",
       "<p>5 rows × 21 columns</p>\n",
       "</div>"
      ],
      "text/plain": [
       "       id    imdb_id  popularity     budget     revenue  \\\n",
       "0  135397  tt0369610   32.985763  150000000  1513528810   \n",
       "1   76341  tt1392190   28.419936  150000000   378436354   \n",
       "2  262500  tt2908446   13.112507  110000000   295238201   \n",
       "3  140607  tt2488496   11.173104  200000000  2068178225   \n",
       "4  168259  tt2820852    9.335014  190000000  1506249360   \n",
       "\n",
       "                 original_title  ... release_date vote_count vote_average  \\\n",
       "0                Jurassic World  ...       6/9/15       5562          6.5   \n",
       "1            Mad Max: Fury Road  ...      5/13/15       6185          7.1   \n",
       "2                     Insurgent  ...      3/18/15       2480          6.3   \n",
       "3  Star Wars: The Force Awakens  ...     12/15/15       5292          7.5   \n",
       "4                     Furious 7  ...       4/1/15       2947          7.3   \n",
       "\n",
       "  release_year    budget_adj   revenue_adj  \n",
       "0         2015  1.379999e+08  1.392446e+09  \n",
       "1         2015  1.379999e+08  3.481613e+08  \n",
       "2         2015  1.012000e+08  2.716190e+08  \n",
       "3         2015  1.839999e+08  1.902723e+09  \n",
       "4         2015  1.747999e+08  1.385749e+09  \n",
       "\n",
       "[5 rows x 21 columns]"
      ]
     },
     "execution_count": 5,
     "metadata": {},
     "output_type": "execute_result"
    }
   ],
   "source": [
    "# Here we will view the first 5 rown limiting number iof columns to 12 because columns at the middle aren't necessary.\n",
    "pd.set_option('display.max_columns',12)\n",
    "tmdb_df.head(5)"
   ]
  },
  {
   "cell_type": "markdown",
   "metadata": {},
   "source": [
    "\n",
    "### Data Cleaning\n",
    " "
   ]
  },
  {
   "cell_type": "code",
   "execution_count": 6,
   "metadata": {},
   "outputs": [
    {
     "data": {
      "text/html": [
       "<div>\n",
       "<style scoped>\n",
       "    .dataframe tbody tr th:only-of-type {\n",
       "        vertical-align: middle;\n",
       "    }\n",
       "\n",
       "    .dataframe tbody tr th {\n",
       "        vertical-align: top;\n",
       "    }\n",
       "\n",
       "    .dataframe thead th {\n",
       "        text-align: right;\n",
       "    }\n",
       "</style>\n",
       "<table border=\"1\" class=\"dataframe\">\n",
       "  <thead>\n",
       "    <tr style=\"text-align: right;\">\n",
       "      <th></th>\n",
       "      <th>popularity</th>\n",
       "      <th>budget</th>\n",
       "      <th>revenue</th>\n",
       "      <th>original_title</th>\n",
       "      <th>director</th>\n",
       "      <th>runtime</th>\n",
       "      <th>genres</th>\n",
       "      <th>production_companies</th>\n",
       "      <th>vote_count</th>\n",
       "      <th>vote_average</th>\n",
       "      <th>release_year</th>\n",
       "    </tr>\n",
       "  </thead>\n",
       "  <tbody>\n",
       "    <tr>\n",
       "      <th>0</th>\n",
       "      <td>32.985763</td>\n",
       "      <td>150000000</td>\n",
       "      <td>1513528810</td>\n",
       "      <td>Jurassic World</td>\n",
       "      <td>Colin Trevorrow</td>\n",
       "      <td>124</td>\n",
       "      <td>Action|Adventure|Science Fiction|Thriller</td>\n",
       "      <td>Universal Studios|Amblin Entertainment|Legenda...</td>\n",
       "      <td>5562</td>\n",
       "      <td>6.5</td>\n",
       "      <td>2015</td>\n",
       "    </tr>\n",
       "    <tr>\n",
       "      <th>1</th>\n",
       "      <td>28.419936</td>\n",
       "      <td>150000000</td>\n",
       "      <td>378436354</td>\n",
       "      <td>Mad Max: Fury Road</td>\n",
       "      <td>George Miller</td>\n",
       "      <td>120</td>\n",
       "      <td>Action|Adventure|Science Fiction|Thriller</td>\n",
       "      <td>Village Roadshow Pictures|Kennedy Miller Produ...</td>\n",
       "      <td>6185</td>\n",
       "      <td>7.1</td>\n",
       "      <td>2015</td>\n",
       "    </tr>\n",
       "    <tr>\n",
       "      <th>2</th>\n",
       "      <td>13.112507</td>\n",
       "      <td>110000000</td>\n",
       "      <td>295238201</td>\n",
       "      <td>Insurgent</td>\n",
       "      <td>Robert Schwentke</td>\n",
       "      <td>119</td>\n",
       "      <td>Adventure|Science Fiction|Thriller</td>\n",
       "      <td>Summit Entertainment|Mandeville Films|Red Wago...</td>\n",
       "      <td>2480</td>\n",
       "      <td>6.3</td>\n",
       "      <td>2015</td>\n",
       "    </tr>\n",
       "    <tr>\n",
       "      <th>3</th>\n",
       "      <td>11.173104</td>\n",
       "      <td>200000000</td>\n",
       "      <td>2068178225</td>\n",
       "      <td>Star Wars: The Force Awakens</td>\n",
       "      <td>J.J. Abrams</td>\n",
       "      <td>136</td>\n",
       "      <td>Action|Adventure|Science Fiction|Fantasy</td>\n",
       "      <td>Lucasfilm|Truenorth Productions|Bad Robot</td>\n",
       "      <td>5292</td>\n",
       "      <td>7.5</td>\n",
       "      <td>2015</td>\n",
       "    </tr>\n",
       "    <tr>\n",
       "      <th>4</th>\n",
       "      <td>9.335014</td>\n",
       "      <td>190000000</td>\n",
       "      <td>1506249360</td>\n",
       "      <td>Furious 7</td>\n",
       "      <td>James Wan</td>\n",
       "      <td>137</td>\n",
       "      <td>Action|Crime|Thriller</td>\n",
       "      <td>Universal Pictures|Original Film|Media Rights ...</td>\n",
       "      <td>2947</td>\n",
       "      <td>7.3</td>\n",
       "      <td>2015</td>\n",
       "    </tr>\n",
       "  </tbody>\n",
       "</table>\n",
       "</div>"
      ],
      "text/plain": [
       "   popularity     budget     revenue                original_title  \\\n",
       "0   32.985763  150000000  1513528810                Jurassic World   \n",
       "1   28.419936  150000000   378436354            Mad Max: Fury Road   \n",
       "2   13.112507  110000000   295238201                     Insurgent   \n",
       "3   11.173104  200000000  2068178225  Star Wars: The Force Awakens   \n",
       "4    9.335014  190000000  1506249360                     Furious 7   \n",
       "\n",
       "           director  runtime                                     genres  \\\n",
       "0   Colin Trevorrow      124  Action|Adventure|Science Fiction|Thriller   \n",
       "1     George Miller      120  Action|Adventure|Science Fiction|Thriller   \n",
       "2  Robert Schwentke      119         Adventure|Science Fiction|Thriller   \n",
       "3       J.J. Abrams      136   Action|Adventure|Science Fiction|Fantasy   \n",
       "4         James Wan      137                      Action|Crime|Thriller   \n",
       "\n",
       "                                production_companies  vote_count  \\\n",
       "0  Universal Studios|Amblin Entertainment|Legenda...        5562   \n",
       "1  Village Roadshow Pictures|Kennedy Miller Produ...        6185   \n",
       "2  Summit Entertainment|Mandeville Films|Red Wago...        2480   \n",
       "3          Lucasfilm|Truenorth Productions|Bad Robot        5292   \n",
       "4  Universal Pictures|Original Film|Media Rights ...        2947   \n",
       "\n",
       "   vote_average  release_year  \n",
       "0           6.5          2015  \n",
       "1           7.1          2015  \n",
       "2           6.3          2015  \n",
       "3           7.5          2015  \n",
       "4           7.3          2015  "
      ]
     },
     "execution_count": 6,
     "metadata": {},
     "output_type": "execute_result"
    }
   ],
   "source": [
    "# Here we will drop insignificant columns and save the new dataframe.\n",
    "tmdb_df.drop(['id', 'imdb_id', 'cast', 'homepage', 'tagline', 'revenue_adj', 'budget_adj', 'release_date', 'overview', 'keywords'], axis = 1, inplace = True)\n",
    "tmdb_df.head()"
   ]
  },
  {
   "cell_type": "code",
   "execution_count": 7,
   "metadata": {},
   "outputs": [
    {
     "data": {
      "text/plain": [
       "(10866, 11)"
      ]
     },
     "execution_count": 7,
     "metadata": {},
     "output_type": "execute_result"
    }
   ],
   "source": [
    "# lets check the number of columns we have now after dropping insignificant data\n",
    "tmdb_df.shape"
   ]
  },
  {
   "cell_type": "code",
   "execution_count": 8,
   "metadata": {},
   "outputs": [
    {
     "name": "stdout",
     "output_type": "stream",
     "text": [
      "<class 'pandas.core.frame.DataFrame'>\n",
      "RangeIndex: 10866 entries, 0 to 10865\n",
      "Data columns (total 11 columns):\n",
      "popularity              10866 non-null float64\n",
      "budget                  10866 non-null int64\n",
      "revenue                 10866 non-null int64\n",
      "original_title          10866 non-null object\n",
      "director                10822 non-null object\n",
      "runtime                 10866 non-null int64\n",
      "genres                  10843 non-null object\n",
      "production_companies    9836 non-null object\n",
      "vote_count              10866 non-null int64\n",
      "vote_average            10866 non-null float64\n",
      "release_year            10866 non-null int64\n",
      "dtypes: float64(2), int64(5), object(4)\n",
      "memory usage: 933.9+ KB\n"
     ]
    }
   ],
   "source": [
    "# Here we check if there is any null values to be amended\n",
    "tmdb_df.info()"
   ]
  },
  {
   "cell_type": "code",
   "execution_count": 9,
   "metadata": {},
   "outputs": [],
   "source": [
    "# Filling empty cells with data that we can exclude later while plotting\n",
    "tmdb_df['director'].fillna('none', inplace =  True)\n",
    "tmdb_df['genres'].fillna('none', inplace = True)\n",
    "tmdb_df['production_companies'].fillna('none', inplace = True)"
   ]
  },
  {
   "cell_type": "code",
   "execution_count": 10,
   "metadata": {},
   "outputs": [
    {
     "data": {
      "text/plain": [
       "popularity              0\n",
       "budget                  0\n",
       "revenue                 0\n",
       "original_title          0\n",
       "director                0\n",
       "runtime                 0\n",
       "genres                  0\n",
       "production_companies    0\n",
       "vote_count              0\n",
       "vote_average            0\n",
       "release_year            0\n",
       "dtype: int64"
      ]
     },
     "execution_count": 10,
     "metadata": {},
     "output_type": "execute_result"
    }
   ],
   "source": [
    "# Check if there is null cells we missed\n",
    "tmdb_df.isnull().sum()"
   ]
  },
  {
   "cell_type": "code",
   "execution_count": 11,
   "metadata": {},
   "outputs": [
    {
     "data": {
      "text/plain": [
       "0        124\n",
       "1        120\n",
       "2        119\n",
       "3        136\n",
       "4        137\n",
       "        ... \n",
       "10861     95\n",
       "10862    176\n",
       "10863     94\n",
       "10864     80\n",
       "10865     74\n",
       "Name: runtime, Length: 10866, dtype: int64"
      ]
     },
     "execution_count": 11,
     "metadata": {},
     "output_type": "execute_result"
    }
   ],
   "source": [
    "#checking type of 'runtime' to see if we need to convert it into seconds so we can use it later.\n",
    "tmdb_df['runtime']"
   ]
  },
  {
   "cell_type": "code",
   "execution_count": 12,
   "metadata": {},
   "outputs": [
    {
     "data": {
      "text/plain": [
       "1"
      ]
     },
     "execution_count": 12,
     "metadata": {},
     "output_type": "execute_result"
    }
   ],
   "source": [
    "# Looking for any duplicated rows\n",
    "tmdb_df.duplicated().sum()"
   ]
  },
  {
   "cell_type": "code",
   "execution_count": 13,
   "metadata": {},
   "outputs": [],
   "source": [
    "# Removing the duplicate row so it doesn't affect the mean calculated.\n",
    "tmdb_df.drop_duplicates(inplace = True)"
   ]
  },
  {
   "cell_type": "code",
   "execution_count": 14,
   "metadata": {},
   "outputs": [
    {
     "name": "stdout",
     "output_type": "stream",
     "text": [
      "<class 'pandas.core.frame.DataFrame'>\n",
      "Int64Index: 10865 entries, 0 to 10865\n",
      "Data columns (total 11 columns):\n",
      "popularity              10865 non-null float64\n",
      "budget                  10865 non-null int64\n",
      "revenue                 10865 non-null int64\n",
      "original_title          10865 non-null object\n",
      "director                10865 non-null object\n",
      "runtime                 10865 non-null int64\n",
      "genres                  10865 non-null object\n",
      "production_companies    10865 non-null object\n",
      "vote_count              10865 non-null int64\n",
      "vote_average            10865 non-null float64\n",
      "release_year            10865 non-null int64\n",
      "dtypes: float64(2), int64(5), object(4)\n",
      "memory usage: 1018.6+ KB\n"
     ]
    }
   ],
   "source": [
    "# Rechecking the data after the above changes\n",
    "tmdb_df.info()"
   ]
  },
  {
   "cell_type": "code",
   "execution_count": 15,
   "metadata": {},
   "outputs": [
    {
     "data": {
      "text/html": [
       "<div>\n",
       "<style scoped>\n",
       "    .dataframe tbody tr th:only-of-type {\n",
       "        vertical-align: middle;\n",
       "    }\n",
       "\n",
       "    .dataframe tbody tr th {\n",
       "        vertical-align: top;\n",
       "    }\n",
       "\n",
       "    .dataframe thead th {\n",
       "        text-align: right;\n",
       "    }\n",
       "</style>\n",
       "<table border=\"1\" class=\"dataframe\">\n",
       "  <thead>\n",
       "    <tr style=\"text-align: right;\">\n",
       "      <th></th>\n",
       "      <th>popularity</th>\n",
       "      <th>budget</th>\n",
       "      <th>revenue</th>\n",
       "      <th>runtime</th>\n",
       "      <th>vote_count</th>\n",
       "      <th>vote_average</th>\n",
       "      <th>release_year</th>\n",
       "    </tr>\n",
       "  </thead>\n",
       "  <tbody>\n",
       "    <tr>\n",
       "      <th>count</th>\n",
       "      <td>10865.000000</td>\n",
       "      <td>1.086500e+04</td>\n",
       "      <td>1.086500e+04</td>\n",
       "      <td>10865.000000</td>\n",
       "      <td>10865.000000</td>\n",
       "      <td>10865.000000</td>\n",
       "      <td>10865.000000</td>\n",
       "    </tr>\n",
       "    <tr>\n",
       "      <th>mean</th>\n",
       "      <td>0.646446</td>\n",
       "      <td>1.462429e+07</td>\n",
       "      <td>3.982690e+07</td>\n",
       "      <td>102.071790</td>\n",
       "      <td>217.399632</td>\n",
       "      <td>5.975012</td>\n",
       "      <td>2001.321859</td>\n",
       "    </tr>\n",
       "    <tr>\n",
       "      <th>std</th>\n",
       "      <td>1.000231</td>\n",
       "      <td>3.091428e+07</td>\n",
       "      <td>1.170083e+08</td>\n",
       "      <td>31.382701</td>\n",
       "      <td>575.644627</td>\n",
       "      <td>0.935138</td>\n",
       "      <td>12.813260</td>\n",
       "    </tr>\n",
       "    <tr>\n",
       "      <th>min</th>\n",
       "      <td>0.000065</td>\n",
       "      <td>0.000000e+00</td>\n",
       "      <td>0.000000e+00</td>\n",
       "      <td>0.000000</td>\n",
       "      <td>10.000000</td>\n",
       "      <td>1.500000</td>\n",
       "      <td>1960.000000</td>\n",
       "    </tr>\n",
       "    <tr>\n",
       "      <th>25%</th>\n",
       "      <td>0.207575</td>\n",
       "      <td>0.000000e+00</td>\n",
       "      <td>0.000000e+00</td>\n",
       "      <td>90.000000</td>\n",
       "      <td>17.000000</td>\n",
       "      <td>5.400000</td>\n",
       "      <td>1995.000000</td>\n",
       "    </tr>\n",
       "    <tr>\n",
       "      <th>50%</th>\n",
       "      <td>0.383831</td>\n",
       "      <td>0.000000e+00</td>\n",
       "      <td>0.000000e+00</td>\n",
       "      <td>99.000000</td>\n",
       "      <td>38.000000</td>\n",
       "      <td>6.000000</td>\n",
       "      <td>2006.000000</td>\n",
       "    </tr>\n",
       "    <tr>\n",
       "      <th>75%</th>\n",
       "      <td>0.713857</td>\n",
       "      <td>1.500000e+07</td>\n",
       "      <td>2.400000e+07</td>\n",
       "      <td>111.000000</td>\n",
       "      <td>146.000000</td>\n",
       "      <td>6.600000</td>\n",
       "      <td>2011.000000</td>\n",
       "    </tr>\n",
       "    <tr>\n",
       "      <th>max</th>\n",
       "      <td>32.985763</td>\n",
       "      <td>4.250000e+08</td>\n",
       "      <td>2.781506e+09</td>\n",
       "      <td>900.000000</td>\n",
       "      <td>9767.000000</td>\n",
       "      <td>9.200000</td>\n",
       "      <td>2015.000000</td>\n",
       "    </tr>\n",
       "  </tbody>\n",
       "</table>\n",
       "</div>"
      ],
      "text/plain": [
       "         popularity        budget       revenue       runtime    vote_count  \\\n",
       "count  10865.000000  1.086500e+04  1.086500e+04  10865.000000  10865.000000   \n",
       "mean       0.646446  1.462429e+07  3.982690e+07    102.071790    217.399632   \n",
       "std        1.000231  3.091428e+07  1.170083e+08     31.382701    575.644627   \n",
       "min        0.000065  0.000000e+00  0.000000e+00      0.000000     10.000000   \n",
       "25%        0.207575  0.000000e+00  0.000000e+00     90.000000     17.000000   \n",
       "50%        0.383831  0.000000e+00  0.000000e+00     99.000000     38.000000   \n",
       "75%        0.713857  1.500000e+07  2.400000e+07    111.000000    146.000000   \n",
       "max       32.985763  4.250000e+08  2.781506e+09    900.000000   9767.000000   \n",
       "\n",
       "       vote_average  release_year  \n",
       "count  10865.000000  10865.000000  \n",
       "mean       5.975012   2001.321859  \n",
       "std        0.935138     12.813260  \n",
       "min        1.500000   1960.000000  \n",
       "25%        5.400000   1995.000000  \n",
       "50%        6.000000   2006.000000  \n",
       "75%        6.600000   2011.000000  \n",
       "max        9.200000   2015.000000  "
      ]
     },
     "execution_count": 15,
     "metadata": {},
     "output_type": "execute_result"
    }
   ],
   "source": [
    "# Checking data statistics\n",
    "tmdb_df.describe()"
   ]
  },
  {
   "cell_type": "markdown",
   "metadata": {},
   "source": [
    "Looking at minimum value for budget, revenue and runtime we can tell that there is something wrong here, they can't be zero, and that's affecting the quantiles calculated. we have to drop these rows with zero values."
   ]
  },
  {
   "cell_type": "code",
   "execution_count": 16,
   "metadata": {},
   "outputs": [],
   "source": [
    "# Removing zero values\n",
    "no_zero_values = tmdb_df.query('budget == 0 or revenue == 0 or runtime == 0').index\n",
    "tmdb_df.drop(no_zero_values, axis=0, inplace=True)"
   ]
  },
  {
   "cell_type": "markdown",
   "metadata": {},
   "source": [
    "Now let's check the data description again and it should make sense rhis time."
   ]
  },
  {
   "cell_type": "code",
   "execution_count": 17,
   "metadata": {},
   "outputs": [
    {
     "data": {
      "text/html": [
       "<div>\n",
       "<style scoped>\n",
       "    .dataframe tbody tr th:only-of-type {\n",
       "        vertical-align: middle;\n",
       "    }\n",
       "\n",
       "    .dataframe tbody tr th {\n",
       "        vertical-align: top;\n",
       "    }\n",
       "\n",
       "    .dataframe thead th {\n",
       "        text-align: right;\n",
       "    }\n",
       "</style>\n",
       "<table border=\"1\" class=\"dataframe\">\n",
       "  <thead>\n",
       "    <tr style=\"text-align: right;\">\n",
       "      <th></th>\n",
       "      <th>popularity</th>\n",
       "      <th>budget</th>\n",
       "      <th>revenue</th>\n",
       "      <th>runtime</th>\n",
       "      <th>vote_count</th>\n",
       "      <th>vote_average</th>\n",
       "      <th>release_year</th>\n",
       "    </tr>\n",
       "  </thead>\n",
       "  <tbody>\n",
       "    <tr>\n",
       "      <th>count</th>\n",
       "      <td>3854.000000</td>\n",
       "      <td>3.854000e+03</td>\n",
       "      <td>3.854000e+03</td>\n",
       "      <td>3854.000000</td>\n",
       "      <td>3854.000000</td>\n",
       "      <td>3854.000000</td>\n",
       "      <td>3854.000000</td>\n",
       "    </tr>\n",
       "    <tr>\n",
       "      <th>mean</th>\n",
       "      <td>1.191554</td>\n",
       "      <td>3.720370e+07</td>\n",
       "      <td>1.076866e+08</td>\n",
       "      <td>109.220291</td>\n",
       "      <td>527.720291</td>\n",
       "      <td>6.168163</td>\n",
       "      <td>2001.261028</td>\n",
       "    </tr>\n",
       "    <tr>\n",
       "      <th>std</th>\n",
       "      <td>1.475162</td>\n",
       "      <td>4.220822e+07</td>\n",
       "      <td>1.765393e+08</td>\n",
       "      <td>19.922820</td>\n",
       "      <td>879.956821</td>\n",
       "      <td>0.794920</td>\n",
       "      <td>11.282575</td>\n",
       "    </tr>\n",
       "    <tr>\n",
       "      <th>min</th>\n",
       "      <td>0.001117</td>\n",
       "      <td>1.000000e+00</td>\n",
       "      <td>2.000000e+00</td>\n",
       "      <td>15.000000</td>\n",
       "      <td>10.000000</td>\n",
       "      <td>2.200000</td>\n",
       "      <td>1960.000000</td>\n",
       "    </tr>\n",
       "    <tr>\n",
       "      <th>25%</th>\n",
       "      <td>0.462368</td>\n",
       "      <td>1.000000e+07</td>\n",
       "      <td>1.360003e+07</td>\n",
       "      <td>95.000000</td>\n",
       "      <td>71.000000</td>\n",
       "      <td>5.700000</td>\n",
       "      <td>1995.000000</td>\n",
       "    </tr>\n",
       "    <tr>\n",
       "      <th>50%</th>\n",
       "      <td>0.797511</td>\n",
       "      <td>2.400000e+07</td>\n",
       "      <td>4.480000e+07</td>\n",
       "      <td>106.000000</td>\n",
       "      <td>204.000000</td>\n",
       "      <td>6.200000</td>\n",
       "      <td>2004.000000</td>\n",
       "    </tr>\n",
       "    <tr>\n",
       "      <th>75%</th>\n",
       "      <td>1.368324</td>\n",
       "      <td>5.000000e+07</td>\n",
       "      <td>1.242125e+08</td>\n",
       "      <td>119.000000</td>\n",
       "      <td>580.000000</td>\n",
       "      <td>6.700000</td>\n",
       "      <td>2010.000000</td>\n",
       "    </tr>\n",
       "    <tr>\n",
       "      <th>max</th>\n",
       "      <td>32.985763</td>\n",
       "      <td>4.250000e+08</td>\n",
       "      <td>2.781506e+09</td>\n",
       "      <td>338.000000</td>\n",
       "      <td>9767.000000</td>\n",
       "      <td>8.400000</td>\n",
       "      <td>2015.000000</td>\n",
       "    </tr>\n",
       "  </tbody>\n",
       "</table>\n",
       "</div>"
      ],
      "text/plain": [
       "        popularity        budget       revenue      runtime   vote_count  \\\n",
       "count  3854.000000  3.854000e+03  3.854000e+03  3854.000000  3854.000000   \n",
       "mean      1.191554  3.720370e+07  1.076866e+08   109.220291   527.720291   \n",
       "std       1.475162  4.220822e+07  1.765393e+08    19.922820   879.956821   \n",
       "min       0.001117  1.000000e+00  2.000000e+00    15.000000    10.000000   \n",
       "25%       0.462368  1.000000e+07  1.360003e+07    95.000000    71.000000   \n",
       "50%       0.797511  2.400000e+07  4.480000e+07   106.000000   204.000000   \n",
       "75%       1.368324  5.000000e+07  1.242125e+08   119.000000   580.000000   \n",
       "max      32.985763  4.250000e+08  2.781506e+09   338.000000  9767.000000   \n",
       "\n",
       "       vote_average  release_year  \n",
       "count   3854.000000   3854.000000  \n",
       "mean       6.168163   2001.261028  \n",
       "std        0.794920     11.282575  \n",
       "min        2.200000   1960.000000  \n",
       "25%        5.700000   1995.000000  \n",
       "50%        6.200000   2004.000000  \n",
       "75%        6.700000   2010.000000  \n",
       "max        8.400000   2015.000000  "
      ]
     },
     "execution_count": 17,
     "metadata": {},
     "output_type": "execute_result"
    }
   ],
   "source": [
    "tmdb_df.describe()"
   ]
  },
  {
   "cell_type": "markdown",
   "metadata": {},
   "source": [
    "Now that looks better, the least profitable movie made 2 million dollars on a 1 million dollar budget."
   ]
  },
  {
   "cell_type": "code",
   "execution_count": 18,
   "metadata": {},
   "outputs": [
    {
     "data": {
      "text/html": [
       "<div>\n",
       "<style scoped>\n",
       "    .dataframe tbody tr th:only-of-type {\n",
       "        vertical-align: middle;\n",
       "    }\n",
       "\n",
       "    .dataframe tbody tr th {\n",
       "        vertical-align: top;\n",
       "    }\n",
       "\n",
       "    .dataframe thead th {\n",
       "        text-align: right;\n",
       "    }\n",
       "</style>\n",
       "<table border=\"1\" class=\"dataframe\">\n",
       "  <thead>\n",
       "    <tr style=\"text-align: right;\">\n",
       "      <th></th>\n",
       "      <th>popularity</th>\n",
       "      <th>budget</th>\n",
       "      <th>revenue</th>\n",
       "      <th>original_title</th>\n",
       "      <th>director</th>\n",
       "      <th>runtime</th>\n",
       "      <th>genres</th>\n",
       "      <th>production_companies</th>\n",
       "      <th>vote_count</th>\n",
       "      <th>vote_average</th>\n",
       "      <th>release_year</th>\n",
       "    </tr>\n",
       "  </thead>\n",
       "  <tbody>\n",
       "    <tr>\n",
       "      <th>2618</th>\n",
       "      <td>0.090186</td>\n",
       "      <td>1</td>\n",
       "      <td>100</td>\n",
       "      <td>Lost &amp; Found</td>\n",
       "      <td>Jeff Pollack</td>\n",
       "      <td>95</td>\n",
       "      <td>Comedy|Romance</td>\n",
       "      <td>Alcon Entertainment|Dinamo Entertainment</td>\n",
       "      <td>14</td>\n",
       "      <td>4.8</td>\n",
       "      <td>1999</td>\n",
       "    </tr>\n",
       "    <tr>\n",
       "      <th>3581</th>\n",
       "      <td>0.520430</td>\n",
       "      <td>1</td>\n",
       "      <td>1378</td>\n",
       "      <td>Love, Wedding, Marriage</td>\n",
       "      <td>Dermot Mulroney</td>\n",
       "      <td>90</td>\n",
       "      <td>Comedy|Romance</td>\n",
       "      <td>120dB Films|Scion Films|Voodoo Production Serv...</td>\n",
       "      <td>55</td>\n",
       "      <td>5.3</td>\n",
       "      <td>2011</td>\n",
       "    </tr>\n",
       "  </tbody>\n",
       "</table>\n",
       "</div>"
      ],
      "text/plain": [
       "      popularity  budget  revenue           original_title         director  \\\n",
       "2618    0.090186       1      100             Lost & Found     Jeff Pollack   \n",
       "3581    0.520430       1     1378  Love, Wedding, Marriage  Dermot Mulroney   \n",
       "\n",
       "      runtime          genres  \\\n",
       "2618       95  Comedy|Romance   \n",
       "3581       90  Comedy|Romance   \n",
       "\n",
       "                                   production_companies  vote_count  \\\n",
       "2618           Alcon Entertainment|Dinamo Entertainment          14   \n",
       "3581  120dB Films|Scion Films|Voodoo Production Serv...          55   \n",
       "\n",
       "      vote_average  release_year  \n",
       "2618           4.8          1999  \n",
       "3581           5.3          2011  "
      ]
     },
     "execution_count": 18,
     "metadata": {},
     "output_type": "execute_result"
    }
   ],
   "source": [
    "min_budget = tmdb_df.loc[tmdb_df['budget'] == 1]\n",
    "min_budget"
   ]
  },
  {
   "cell_type": "markdown",
   "metadata": {},
   "source": [
    "Checking the budget for Love, Wedding, Marriage on Google i found that it is 13 mil but this is as far as one can go, otherwise we have to pull this data through TMDB's API again."
   ]
  },
  {
   "cell_type": "markdown",
   "metadata": {},
   "source": [
    "Started the data cleaning process by dropping less important columns to the analysis process, total of 10 columns gor dropped, made sure that now we have 11 columns only. checking the info i noticed there is null cells which i filled by string (none) so we can drop it later if needed. dropped duplicates as well. made sure that column (runtime) is in seconds format so it is ready for analysis. with more investigation i found out that some values don't make any sense, some cells in budget and revenue had values of zero since they are rounded to millions and this affected the minimum statistics of the dataframe, hence it would've affected our mean calculations, i decided to drop it as well, although it brough thr number of movies down too 3854 from 10865, but that's so we can have the most accurate results. found a mistake that's quite tough to fix."
   ]
  },
  {
   "cell_type": "markdown",
   "metadata": {},
   "source": [
    "<a id='eda'></a>\n",
    "## Exploratory Data Analysis\n",
    "\n",
    "\n",
    "### Research Question 1 (What is the mean runtime?)"
   ]
  },
  {
   "cell_type": "code",
   "execution_count": 19,
   "metadata": {},
   "outputs": [
    {
     "name": "stdout",
     "output_type": "stream",
     "text": [
      "109.22 seconds\n"
     ]
    }
   ],
   "source": [
    "# Calculating the mean runtime for the movies included in the database\n",
    "mean_runtime = tmdb_df['runtime'].mean().round(decimals = 2)\n",
    "print (mean_runtime, 'seconds')"
   ]
  },
  {
   "cell_type": "code",
   "execution_count": 20,
   "metadata": {},
   "outputs": [
    {
     "data": {
      "image/png": "[encoded data removed]",
      "text/plain": [
       "<matplotlib.figure.Figure at 0x7f32bc635240>"
      ]
     },
     "metadata": {
      "needs_background": "light"
     },
     "output_type": "display_data"
    }
   ],
   "source": [
    "# Plotting a histogram of runtime column\n",
    "x = np.arange(0, 500, 25)\n",
    "plt.xlim([0, 500])\n",
    "plt.legend()\n",
    "plt.xlabel('Runtime (minutes)')\n",
    "plt.title('Runtime Histogram')\n",
    "tmdb_df['runtime'].plot(kind='hist', figsize= (10,8), grid = True, facecolor = 'b')\n",
    "plt.show()"
   ]
  },
  {
   "cell_type": "code",
   "execution_count": 21,
   "metadata": {},
   "outputs": [
    {
     "name": "stdout",
     "output_type": "stream",
     "text": [
      "3820 movies or like 0.99 of the movies are below 180 minutes\n"
     ]
    }
   ],
   "source": [
    "average = pd.Series(range(1,180))\n",
    "average_frequency = tmdb_df['runtime'].isin(average).sum()\n",
    "percentage = (average_frequency/3854).round(decimals = 2)\n",
    "print (average_frequency, 'movies or like' , percentage, 'of the movies are below 180 minutes')"
   ]
  },
  {
   "cell_type": "code",
   "execution_count": 22,
   "metadata": {},
   "outputs": [
    {
     "name": "stdout",
     "output_type": "stream",
     "text": [
      "3399 movies or like 0.88 of the movies are between 90 and 180 minutes\n"
     ]
    }
   ],
   "source": [
    "average = pd.Series(range(90,180))\n",
    "ndaverage_frequency = tmdb_df['runtime'].isin(average).sum()\n",
    "percentage = (ndaverage_frequency/3854).round(decimals = 2)\n",
    "print (ndaverage_frequency, 'movies or like' , percentage, 'of the movies are between 90 and 180 minutes')"
   ]
  },
  {
   "cell_type": "markdown",
   "metadata": {},
   "source": [
    "### Research Question 2  (How has runtime developed over the years?)"
   ]
  },
  {
   "cell_type": "code",
   "execution_count": 23,
   "metadata": {},
   "outputs": [
    {
     "data": {
      "image/png": "[encoded data removed]",
      "text/plain": [
       "<matplotlib.figure.Figure at 0x7f32bc635b70>"
      ]
     },
     "metadata": {
      "needs_background": "light"
     },
     "output_type": "display_data"
    }
   ],
   "source": [
    "# Checking if there is some sort of trend in between runtime and release year\n",
    "runtime_year = tmdb_df.groupby('release_year')['runtime'].mean()\n",
    "plt.plot(runtime_year)\n",
    "plt.title('Length of movies over the years')\n",
    "plt.xlabel('Year')\n",
    "plt.ylabel('Runtime(sec)')\n",
    "plt.show()"
   ]
  },
  {
   "cell_type": "markdown",
   "metadata": {},
   "source": [
    "There has been a downtrend in runtime over the years."
   ]
  },
  {
   "cell_type": "code",
   "execution_count": 24,
   "metadata": {},
   "outputs": [
    {
     "data": {
      "text/plain": [
       "count    3854.000000\n",
       "mean      109.220291\n",
       "std        19.922820\n",
       "min        15.000000\n",
       "25%        95.000000\n",
       "50%       106.000000\n",
       "75%       119.000000\n",
       "max       338.000000\n",
       "Name: runtime, dtype: float64"
      ]
     },
     "execution_count": 24,
     "metadata": {},
     "output_type": "execute_result"
    }
   ],
   "source": [
    "tmdb_df.runtime.describe()"
   ]
  },
  {
   "cell_type": "markdown",
   "metadata": {},
   "source": [
    "Looking at the 75th percentiles tells us that this downtrend observation makes sense."
   ]
  },
  {
   "cell_type": "markdown",
   "metadata": {},
   "source": [
    "### Research Question 3  (How is popularity correlated with runtime?)"
   ]
  },
  {
   "cell_type": "code",
   "execution_count": 25,
   "metadata": {},
   "outputs": [
    {
     "data": {
      "text/plain": [
       "0.22"
      ]
     },
     "execution_count": 25,
     "metadata": {},
     "output_type": "execute_result"
    }
   ],
   "source": [
    "# We will investigate the correlation between popularity and runtime.\n",
    "tmdb_df['popularity'].corr(tmdb_df['runtime']).round(decimals = 2)"
   ]
  },
  {
   "cell_type": "code",
   "execution_count": 26,
   "metadata": {},
   "outputs": [
    {
     "data": {
      "text/plain": [
       "(338, 32.985763)"
      ]
     },
     "execution_count": 26,
     "metadata": {},
     "output_type": "execute_result"
    }
   ],
   "source": [
    "# Find max value in popularity\n",
    "max_popularity = tmdb_df['popularity'].max()\n",
    "# Find max value in runtime \n",
    "max_runtime = tmdb_df['runtime'].max()\n",
    "max_runtime, max_popularity"
   ]
  },
  {
   "cell_type": "code",
   "execution_count": 30,
   "metadata": {},
   "outputs": [
    {
     "data": {
      "image/png": "[encoded data removed]",
      "text/plain": [
       "<matplotlib.figure.Figure at 0x7f32bc25ffd0>"
      ]
     },
     "metadata": {
      "needs_background": "light"
     },
     "output_type": "display_data"
    }
   ],
   "source": [
    "# plotting popularity against runtime to visualize how they correlate with each other\n",
    "\n",
    "tmdb_df.plot(x= 'popularity', y= 'runtime', kind = 'scatter')\n",
    "plt.legend()\n",
    "plt.xlabel('Popularity(mn)')\n",
    "plt.ylabel('Runtimes(sec)')\n",
    "plt.title('Correlation between popularity and runtime')\n",
    "plt.show()"
   ]
  },
  {
   "cell_type": "code",
   "execution_count": 28,
   "metadata": {},
   "outputs": [
    {
     "data": {
      "text/html": [
       "<div>\n",
       "<style scoped>\n",
       "    .dataframe tbody tr th:only-of-type {\n",
       "        vertical-align: middle;\n",
       "    }\n",
       "\n",
       "    .dataframe tbody tr th {\n",
       "        vertical-align: top;\n",
       "    }\n",
       "\n",
       "    .dataframe thead th {\n",
       "        text-align: right;\n",
       "    }\n",
       "</style>\n",
       "<table border=\"1\" class=\"dataframe\">\n",
       "  <thead>\n",
       "    <tr style=\"text-align: right;\">\n",
       "      <th></th>\n",
       "      <th>popularity</th>\n",
       "      <th>budget</th>\n",
       "      <th>revenue</th>\n",
       "      <th>original_title</th>\n",
       "      <th>director</th>\n",
       "      <th>runtime</th>\n",
       "      <th>genres</th>\n",
       "      <th>production_companies</th>\n",
       "      <th>vote_count</th>\n",
       "      <th>vote_average</th>\n",
       "      <th>release_year</th>\n",
       "    </tr>\n",
       "  </thead>\n",
       "  <tbody>\n",
       "    <tr>\n",
       "      <th>0</th>\n",
       "      <td>32.985763</td>\n",
       "      <td>150000000</td>\n",
       "      <td>1513528810</td>\n",
       "      <td>Jurassic World</td>\n",
       "      <td>Colin Trevorrow</td>\n",
       "      <td>124</td>\n",
       "      <td>Action|Adventure|Science Fiction|Thriller</td>\n",
       "      <td>Universal Studios|Amblin Entertainment|Legenda...</td>\n",
       "      <td>5562</td>\n",
       "      <td>6.5</td>\n",
       "      <td>2015</td>\n",
       "    </tr>\n",
       "  </tbody>\n",
       "</table>\n",
       "</div>"
      ],
      "text/plain": [
       "   popularity     budget     revenue  original_title         director  \\\n",
       "0   32.985763  150000000  1513528810  Jurassic World  Colin Trevorrow   \n",
       "\n",
       "   runtime                                     genres  \\\n",
       "0      124  Action|Adventure|Science Fiction|Thriller   \n",
       "\n",
       "                                production_companies  vote_count  \\\n",
       "0  Universal Studios|Amblin Entertainment|Legenda...        5562   \n",
       "\n",
       "   vote_average  release_year  \n",
       "0           6.5          2015  "
      ]
     },
     "execution_count": 28,
     "metadata": {},
     "output_type": "execute_result"
    }
   ],
   "source": [
    "# checking that the outlier (single value to the right) is correct\n",
    "tmdb_df.loc[tmdb_df['popularity'] == max_popularity]"
   ]
  },
  {
   "cell_type": "code",
   "execution_count": 29,
   "metadata": {},
   "outputs": [
    {
     "data": {
      "text/html": [
       "<div>\n",
       "<style scoped>\n",
       "    .dataframe tbody tr th:only-of-type {\n",
       "        vertical-align: middle;\n",
       "    }\n",
       "\n",
       "    .dataframe tbody tr th {\n",
       "        vertical-align: top;\n",
       "    }\n",
       "\n",
       "    .dataframe thead th {\n",
       "        text-align: right;\n",
       "    }\n",
       "</style>\n",
       "<table border=\"1\" class=\"dataframe\">\n",
       "  <thead>\n",
       "    <tr style=\"text-align: right;\">\n",
       "      <th></th>\n",
       "      <th>popularity</th>\n",
       "      <th>budget</th>\n",
       "      <th>revenue</th>\n",
       "      <th>original_title</th>\n",
       "      <th>director</th>\n",
       "      <th>runtime</th>\n",
       "      <th>genres</th>\n",
       "      <th>production_companies</th>\n",
       "      <th>vote_count</th>\n",
       "      <th>vote_average</th>\n",
       "      <th>release_year</th>\n",
       "    </tr>\n",
       "  </thead>\n",
       "  <tbody>\n",
       "    <tr>\n",
       "      <th>2107</th>\n",
       "      <td>0.534192</td>\n",
       "      <td>18000000</td>\n",
       "      <td>871279</td>\n",
       "      <td>Carlos</td>\n",
       "      <td>Olivier Assayas</td>\n",
       "      <td>338</td>\n",
       "      <td>Crime|Drama|Thriller|History</td>\n",
       "      <td>Egoli Tossell Film AG|Canal+|Arte France|Films...</td>\n",
       "      <td>35</td>\n",
       "      <td>6.2</td>\n",
       "      <td>2010</td>\n",
       "    </tr>\n",
       "  </tbody>\n",
       "</table>\n",
       "</div>"
      ],
      "text/plain": [
       "      popularity    budget  revenue original_title         director  runtime  \\\n",
       "2107    0.534192  18000000   871279         Carlos  Olivier Assayas      338   \n",
       "\n",
       "                            genres  \\\n",
       "2107  Crime|Drama|Thriller|History   \n",
       "\n",
       "                                   production_companies  vote_count  \\\n",
       "2107  Egoli Tossell Film AG|Canal+|Arte France|Films...          35   \n",
       "\n",
       "      vote_average  release_year  \n",
       "2107           6.2          2010  "
      ]
     },
     "execution_count": 29,
     "metadata": {},
     "output_type": "execute_result"
    }
   ],
   "source": [
    "# checking that the outlier (single value at the top) is correct\n",
    "tmdb_df.loc[tmdb_df['runtime'] == max_runtime]"
   ]
  },
  {
   "cell_type": "markdown",
   "metadata": {},
   "source": [
    "<a id='conclusions'></a>\n",
    "## Conclusions\n",
    "\n",
    "> Mean runtime is 109.22 seconds and 99% of the movies are below 3 hours, but 88% of the movies are between hour and a half and three hours.\n",
    "\n",
    "> Runtime deciined over the years but we can't tell why exactly due to not having enough information.\n",
    "\n",
    "> Correlation between popularity and runtime is so insignificnt, meaning that it is not necessarily true that a short movie is more popular than a longer one. actually the longest movie in the database is the least popular.\n",
    "We can see that most movies are below 300 mins and have a value less than 15 on the popularity ranking.\n",
    "\n",
    "## Limitations\n",
    "> While cleaning the data we gor rid of roughly two thirds the data because most had zero values, also we discovered a mistake by chance which makes it possible that there are other mistakes which we are unaware of as well.\n",
    "\n",
    ">Based on how popularity is calculated it will be more accurate if we have more details about each metric and how it relates to runtime.\n"
   ]
  },
  {
   "cell_type": "code",
   "execution_count": 54,
   "metadata": {},
   "outputs": [
    {
     "data": {
      "text/plain": [
       "0"
      ]
     },
     "execution_count": 54,
     "metadata": {},
     "output_type": "execute_result"
    }
   ],
   "source": [
    "from subprocess import call\n",
    "call(['python', '-m', 'nbconvert', 'Investigate_a_Dataset.ipynb'])"
   ]
  }
 ],
 "metadata": {
  "kernelspec": {
   "display_name": "Python 3",
   "language": "python",
   "name": "python3"
  },
  "language_info": {
   "codemirror_mode": {
    "name": "ipython",
    "version": 3
   },
   "file_extension": ".py",
   "mimetype": "text/x-python",
   "name": "python",
   "nbconvert_exporter": "python",
   "pygments_lexer": "ipython3",
   "version": "3.6.3"
  }
 },
 "nbformat": 4,
 "nbformat_minor": 2
}
